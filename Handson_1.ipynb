{
 "cells": [
  {
   "cell_type": "code",
   "execution_count": 5,
   "id": "40014c70",
   "metadata": {},
   "outputs": [
    {
     "name": "stdout",
     "output_type": "stream",
     "text": [
      "First Name:  chas\n",
      "Last Name:  schaeffer\n",
      "Year of Birth:  1976\n",
      "Welcome chas schaeffer!\n",
      "Your registration is complete!\n",
      "Your temporary password is: chas*1976\n"
     ]
    }
   ],
   "source": [
    "First= input(\"First Name:  \")\n",
    "Last= input(\"Last Name:  \")\n",
    "Year= input(\"Year of Birth:  \")\n",
    "print(\"Welcome\",First,Last+\"!\")\n",
    "print(\"Your registration is complete!\")\n",
    "print(\"Your temporary password is:\",First+\"*\"+Year)"
   ]
  },
  {
   "cell_type": "code",
   "execution_count": 34,
   "id": "fd516606",
   "metadata": {},
   "outputs": [
    {
     "name": "stdout",
     "output_type": "stream",
     "text": [
      "Paycheck Calculator\n",
      "\n",
      "Hours Worked:  10.75\n",
      "Hourly Pay Rate:  14.23\n",
      "\n",
      "Gross Pay:  152.97\n",
      "Tax Rate:  18 %\n",
      "Tax Amount:  27.54\n",
      "Take Home Pay:  125.44\n"
     ]
    }
   ],
   "source": [
    "print(\"Paycheck Calculator\")\n",
    "print()\n",
    "Hours_Worked = float(input(\"Hours Worked:  \"))\n",
    "Pay_Rate = float(input(\"Hourly Pay Rate:  \"))\n",
    "print()\n",
    "Gross = Hours_Worked * Pay_Rate\n",
    "TAX = 18\n",
    "Taxes = Gross * (TAX/100)\n",
    "Pay = Gross - Taxes\n",
    "\n",
    "print(\"Gross Pay: \",round(Gross,2))\n",
    "print(\"Tax Rate: \",round(TAX,2),\"%\")\n",
    "print(\"Tax Amount: \",round(Taxes,2))\n",
    "print(\"Take Home Pay: \",round(Pay,2))"
   ]
  },
  {
   "cell_type": "code",
   "execution_count": 55,
   "id": "811182ed",
   "metadata": {},
   "outputs": [
    {
     "name": "stdout",
     "output_type": "stream",
     "text": [
      "Travel Time Calculator\n",
      "\n",
      "Enter Miles: 200\n",
      "Enter Miles per Hour: 65\n",
      "\n",
      "Estimated Travel Time\n",
      "Hours:  3\n",
      "Minutes:  5.0\n"
     ]
    }
   ],
   "source": [
    "print(\"Travel Time Calculator\")\n",
    "print()\n",
    "distance = int(input(\"Enter Miles: \"))\n",
    "rate = int(input(\"Enter Miles per Hour: \"))\n",
    "print()\n",
    "print(\"Estimated Travel Time\")\n",
    "time = distance / rate\n",
    "hours = int(time)\n",
    "minutes = float(round(time * 60) % 60)\n",
    "print(\"Hours: \",hours)\n",
    "print(\"Minutes: \",minutes)"
   ]
  },
  {
   "cell_type": "code",
   "execution_count": 51,
   "id": "1074e010",
   "metadata": {},
   "outputs": [
    {
     "name": "stdout",
     "output_type": "stream",
     "text": [
      "Travel Time Calculator\n",
      "\n",
      "Enter Miles: 200\n",
      "Enter Miles per Hour: 65\n",
      "\n",
      "Estimated Travel Time\n",
      "Hours:  3\n",
      "Minutes:  4.8\n"
     ]
    }
   ],
   "source": [
    "print(\"Travel Time Calculator\")\n",
    "print()\n",
    "distance = int(input(\"Enter Miles: \"))\n",
    "rate = int(input(\"Enter Miles per Hour: \"))\n",
    "print()\n",
    "print(\"Estimated Travel Time\")\n",
    "time = distance / rate\n",
    "hours = int(time)\n",
    "print(\"Hours: \",hours)\n",
    "print(\"Minutes: \",round(time - hours,2) * 60)"
   ]
  },
  {
   "cell_type": "code",
   "execution_count": null,
   "id": "e1512ffb",
   "metadata": {},
   "outputs": [],
   "source": []
  }
 ],
 "metadata": {
  "kernelspec": {
   "display_name": "Python 3 (ipykernel)",
   "language": "python",
   "name": "python3"
  },
  "language_info": {
   "codemirror_mode": {
    "name": "ipython",
    "version": 3
   },
   "file_extension": ".py",
   "mimetype": "text/x-python",
   "name": "python",
   "nbconvert_exporter": "python",
   "pygments_lexer": "ipython3",
   "version": "3.11.5"
  }
 },
 "nbformat": 4,
 "nbformat_minor": 5
}

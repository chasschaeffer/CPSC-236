{
 "cells": [
  {
   "cell_type": "code",
   "execution_count": 19,
   "id": "9f62c4b2",
   "metadata": {},
   "outputs": [
    {
     "name": "stdout",
     "output_type": "stream",
     "text": [
      "Letter Grade Converter\n",
      "\n",
      "Enter test score: 90\n",
      "Grade:  A\n",
      "\n",
      "Continue? (y/n): y\n",
      "Enter test score: 88\n",
      "Grade:  A\n",
      "\n",
      "Continue? (y/n): y\n",
      "Enter test score: 67\n",
      "Grade:  C\n",
      "\n",
      "Continue? (y/n): y\n",
      "Enter test score: 59\n",
      "Grade:  F\n",
      "\n",
      "Continue? (y/n): n\n",
      "\n",
      "Bye!\n"
     ]
    }
   ],
   "source": [
    "print(\"Letter Grade Converter\")\n",
    "print()\n",
    "choice = \"y\"\n",
    "while choice.lower() == \"y\":\n",
    "    score = int(input(\"Enter test score: \"))\n",
    "    if score >= 88 and score <= 100:\n",
    "        grade = \"A\"\n",
    "    elif score >= 80 and score < 88:\n",
    "        grade = \"B\"\n",
    "    elif score >= 67 and score < 80:\n",
    "        grade = \"C\"\n",
    "    elif score >= 60 and score < 67:\n",
    "        grade = \"D\"\n",
    "    elif score < 60:\n",
    "        grade = \"F\"\n",
    "    print(\"Grade: \", grade)\n",
    "    choice = input(\"\\nContinue? (y/n): \")\n",
    "    if choice.lower() == \"n\":\n",
    "        break\n",
    "print(\"\\nBye!\")"
   ]
  },
  {
   "cell_type": "raw",
   "id": "56bba7a4",
   "metadata": {},
   "source": [
    "print(\"Tip Calculator\")\n",
    "print()\n",
    "Cost = float(input(\"Cost of meal: \"))\n",
    "print()\n",
    "print(\"15%\")\n",
    "print(str(round(\"Tip Amount: \"+ Cost * .15, 2)))\n",
    "print(float(round(Cost * .15 + Cost, 2)))\n",
    "print(\"20%\")\n",
    "print(float(round(Cost * .20, 2)))\n",
    "print(float(round(Cost * .20 + Cost, 2)))\n",
    "print(\"25%\")\n",
    "print(float(round(Cost * .25, 2)))\n",
    "print(float(round(Cost * .25 + Cost, 2)))"
   ]
  },
  {
   "cell_type": "code",
   "execution_count": 35,
   "id": "db6f926a",
   "metadata": {},
   "outputs": [
    {
     "name": "stdout",
     "output_type": "stream",
     "text": [
      "Tip Calculator\n",
      "\n",
      "Cost of meal: 52.31\n",
      "\n",
      "15%\n",
      "Tip Amount:  7.85\n",
      "Total Amount:  60.16\n",
      "\n",
      "20%\n",
      "Tip Amount:  10.46\n",
      "Total Amount:  62.77\n",
      "\n",
      "25%\n",
      "Tip Amount:  13.08\n",
      "Total Amount:  65.39\n"
     ]
    }
   ],
   "source": [
    "print(\"Tip Calculator\")\n",
    "print()\n",
    "Cost = float(input(\"Cost of meal: \"))\n",
    "print()\n",
    "print(\"15%\")\n",
    "tip_15 = round( Cost * .15, 2)\n",
    "total_15 = round(Cost * .15 + Cost, 2)\n",
    "print(\"Tip Amount: \", tip_15)\n",
    "print(\"Total Amount: \", total_15)\n",
    "print()\n",
    "print(\"20%\")\n",
    "tip_20 = round( Cost * .20, 2)\n",
    "total_20 = round(Cost * .20 + Cost, 2)\n",
    "print(\"Tip Amount: \", tip_20)\n",
    "print(\"Total Amount: \", total_20)\n",
    "print()\n",
    "print(\"25%\")\n",
    "tip_25 = round( Cost * .25, 2)\n",
    "total_25 = round(Cost * .25 + Cost, 2)\n",
    "print(\"Tip Amount: \", tip_25)\n",
    "print(\"Total Amount: \", total_25)\n"
   ]
  },
  {
   "cell_type": "code",
   "execution_count": 45,
   "id": "60629d09",
   "metadata": {},
   "outputs": [
    {
     "name": "stdout",
     "output_type": "stream",
     "text": [
      "Change Calculator\n",
      "\n",
      "Enter number of cents (0-99): 99\n",
      "Quarters:  3\n",
      "Dimes:  2\n",
      "Nickels:  0\n",
      "Pennies:  4\n",
      "\n",
      "Continue? (y/n): Y\n",
      "Enter number of cents (0-99): 55\n",
      "Quarters:  2\n",
      "Dimes:  0\n",
      "Nickels:  1\n",
      "Pennies:  0\n",
      "\n",
      "Continue? (y/n): y\n",
      "Enter number of cents (0-99): 41\n",
      "Quarters:  1\n",
      "Dimes:  1\n",
      "Nickels:  1\n",
      "Pennies:  1\n",
      "\n",
      "Continue? (y/n): z\n",
      "\n",
      "Bye!\n"
     ]
    }
   ],
   "source": [
    "print(\"Change Calculator\")\n",
    "print()\n",
    "choice = \"y\"\n",
    "while choice.lower() == \"y\":\n",
    "    change = int(input(\"Enter number of cents (0-99): \"))\n",
    "    quarters = change // 25\n",
    "    change %= 25\n",
    "    dimes = change //10\n",
    "    change %= 10\n",
    "    nickels = change // 5\n",
    "    change %= 5\n",
    "    pennies = change % 5\n",
    "    print(\"Quarters: \", quarters)\n",
    "    print(\"Dimes: \", dimes)\n",
    "    print(\"Nickels: \", nickels)\n",
    "    print(\"Pennies: \", pennies)\n",
    "    choice = input(\"\\nContinue? (y/n): \")\n",
    "    if choice.lower() == \"n\":\n",
    "        break\n",
    "print(\"\\nBye!\")"
   ]
  },
  {
   "cell_type": "code",
   "execution_count": 70,
   "id": "fe06f5a8",
   "metadata": {},
   "outputs": [
    {
     "name": "stdout",
     "output_type": "stream",
     "text": [
      "Table of Powers\n",
      "\n",
      "Start Number: 100\n",
      "Stop Number: 90\n",
      "Error: Start number must be less than stop number. Please try again.\n",
      "Start Number: 90\n",
      "Stop Number: 100\n",
      "Number  Squared    Cubed  \n",
      "======  =======    =====\n",
      "90       8100      729000    \n",
      "91       8281      753571    \n",
      "92       8464      778688    \n",
      "93       8649      804357    \n",
      "94       8836      830584    \n",
      "95       9025      857375    \n",
      "96       9216      884736    \n",
      "97       9409      912673    \n",
      "98       9604      941192    \n",
      "99       9801      970299    \n",
      "100       10000      1000000    \n"
     ]
    }
   ],
   "source": [
    "print(\"Table of Powers\")\n",
    "print()\n",
    "while True:\n",
    "    start_number = int(input(\"Start Number: \"))\n",
    "    stop_number = int(input(\"Stop Number: \"))\n",
    "    if start_number < stop_number:\n",
    "        break\n",
    "    else:\n",
    "        print(\"Start number must be less than stop number. Please try again.\")\n",
    "print(\"Number \",\"Squared  \",\" Cubed  \")\n",
    "print(\"======  \"+\"======= \"+\"   =====\")\n",
    "for number in range(start_number, stop_number + 1):\n",
    "    squared = number ** 2\n",
    "    cubed = number ** 3\n",
    "    print(str(number)+\"       \"+ str(squared)+\"      \"+ str(cubed)+\"    \")\n"
   ]
  },
  {
   "cell_type": "code",
   "execution_count": null,
   "id": "c20f338f",
   "metadata": {},
   "outputs": [],
   "source": []
  }
 ],
 "metadata": {
  "kernelspec": {
   "display_name": "Python 3 (ipykernel)",
   "language": "python",
   "name": "python3"
  },
  "language_info": {
   "codemirror_mode": {
    "name": "ipython",
    "version": 3
   },
   "file_extension": ".py",
   "mimetype": "text/x-python",
   "name": "python",
   "nbconvert_exporter": "python",
   "pygments_lexer": "ipython3",
   "version": "3.11.5"
  }
 },
 "nbformat": 4,
 "nbformat_minor": 5
}
